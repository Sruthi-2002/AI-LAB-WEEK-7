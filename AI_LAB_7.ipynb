{
  "nbformat": 4,
  "nbformat_minor": 0,
  "metadata": {
    "colab": {
      "name": "AI LAB 7",
      "provenance": [],
      "authorship_tag": "ABX9TyPERBwQnr/YuACa0+5X/Fs1",
      "include_colab_link": true
    },
    "kernelspec": {
      "name": "python3",
      "display_name": "Python 3"
    },
    "language_info": {
      "name": "python"
    }
  },
  "cells": [
    {
      "cell_type": "markdown",
      "metadata": {
        "id": "view-in-github",
        "colab_type": "text"
      },
      "source": [
        "<a href=\"https://colab.research.google.com/github/Sruthi-2002/AI-LAB-WEEK-7/blob/main/AI_LAB_7.ipynb\" target=\"_parent\"><img src=\"https://colab.research.google.com/assets/colab-badge.svg\" alt=\"Open In Colab\"/></a>"
      ]
    },
    {
      "cell_type": "code",
      "execution_count": 1,
      "metadata": {
        "colab": {
          "base_uri": "https://localhost:8080/"
        },
        "id": "hNd03oRRYA1S",
        "outputId": "5734446a-99ab-46de-e26d-18995e224186"
      },
      "outputs": [
        {
          "output_type": "stream",
          "name": "stdout",
          "text": [
            "Mounted at /content/gdrive\n"
          ]
        }
      ],
      "source": [
        "from google.colab import drive\n",
        "drive.mount('/content/gdrive')"
      ]
    },
    {
      "cell_type": "code",
      "source": [
        "import matplotlib.pyplot as plt\n",
        "import numpy as np\n",
        "\n",
        "fig, ax = plt.subplots()\n",
        "xmin, xmax = -0.2, 1.4\n",
        "X = np.arange(xmin, xmax, 0.1)\n",
        "ax.scatter(0, 0, color=\"r\")\n",
        "#write your code here\n",
        "#write your code here\n",
        "ax.scatter(1, 1, color=\"g\")\n",
        "ax.scatter(0, 1, color=\"r\")\n",
        "ax.scatter(1, 0, color=\"r\")\n",
        "\n",
        "\n",
        "ax.set_xlim([xmin, xmax])\n",
        "ax.set_ylim([-0.1, 1.1])\n",
        "\n",
        "plt.plot()\n"
      ],
      "metadata": {
        "colab": {
          "base_uri": "https://localhost:8080/",
          "height": 282
        },
        "id": "dIrsh_TXYqDR",
        "outputId": "a5b786ea-dfab-48cd-89c2-b9d61ffa93fe"
      },
      "execution_count": 6,
      "outputs": [
        {
          "output_type": "execute_result",
          "data": {
            "text/plain": [
              "[]"
            ]
          },
          "metadata": {},
          "execution_count": 6
        },
        {
          "output_type": "display_data",
          "data": {
            "text/plain": [
              "<Figure size 432x288 with 1 Axes>"
            ],
            "image/png": "[encoded data removed]"
          },
          "metadata": {
            "needs_background": "light"
          }
        }
      ]
    },
    {
      "cell_type": "code",
      "source": [
        "#draw a decision boundary separing classes\n",
        "import matplotlib.pyplot as plt\n",
        "import numpy as np\n",
        "\n",
        "fig, ax = plt.subplots()\n",
        "xmin, xmax = -0.2, 1.4\n",
        "X = np.arange(xmin, xmax, 0.1)\n",
        "ax.scatter(0, 0, color=\"r\")\n",
        "#write your code here\n",
        "#write your code here\n",
        "ax.scatter(0, 0, color=\"r\")\n",
        "ax.scatter(0, 1, color=\"r\")\n",
        "ax.scatter(1, 0, color=\"r\")\n",
        "ax.scatter(1, 1, color=\"g\")\n",
        "ax.set_xlim([xmin, xmax])\n",
        "ax.set_ylim([-0.1, 1.1])\n",
        "#choose suitable values for m and c\n",
        "m, c = (-1,1.4)\n",
        "ax.plot(X, m * X + c )\n",
        "plt.plot()\n"
      ],
      "metadata": {
        "colab": {
          "base_uri": "https://localhost:8080/",
          "height": 282
        },
        "id": "d5jjmv-XYvWL",
        "outputId": "73f22b9f-1505-4390-b143-1bbdabb5fb78"
      },
      "execution_count": 10,
      "outputs": [
        {
          "output_type": "execute_result",
          "data": {
            "text/plain": [
              "[]"
            ]
          },
          "metadata": {},
          "execution_count": 10
        },
        {
          "output_type": "display_data",
          "data": {
            "text/plain": [
              "<Figure size 432x288 with 1 Axes>"
            ],
            "image/png": "[encoded data removed]"
          },
          "metadata": {
            "needs_background": "light"
          }
        }
      ]
    },
    {
      "cell_type": "code",
      "source": [
        "import random\n",
        "\n",
        "X = [\n",
        "\n",
        "    [(0, 0), 0],\n",
        "    [(0, 1), 0],\n",
        "    [(1, 0), 0],\n",
        "    [(1, 1), 1]\n",
        "]\n",
        "\n",
        "def activation_function(x):\n",
        "    if x > 0:\n",
        "        return 1\n",
        "    elif x < 0:\n",
        "        return -1\n",
        "\n",
        "def run_perceptron(X1):\n",
        "    bias = (1,) # the bias is always one\n",
        "    learning_constant = 0.1\n",
        "    epochs = 50 # how many times the machine learns\n",
        "\n",
        "    weights = []\n",
        "\n",
        "    # initialize with 3 random weights between -1 and 1, one for each input and one for the bias\n",
        "    for i in range(3):\n",
        "        weights.append(random.uniform(0, 1))\n",
        "\n",
        "    for i in range(epochs):\n",
        "        inputs, expected_output = random.choice(X1)\n",
        "        \n",
        "        #write code to add the bias with input\n",
        "        #inputs = \n",
        "        inputs=inputs+bias\n",
        "        weighted_sum = np.dot(inputs, weights)\n",
        "        # Write code to find the sign of the weighted sum using activation function\n",
        "        #predicted =  \n",
        "        #Write code for error\n",
        "        predicted=activation_function(weighted_sum)\n",
        "        error = expected_output - predicted\n",
        "        weights += learning_constant * error * np.asarray(inputs) \n",
        "\n",
        "\n",
        "    inputs, expected_output = random.choice(X1)\n",
        "    print( \"inputs: \" + str(inputs))\n",
        "    inputs = inputs + bias\n",
        "    weighted_sum = np.dot(inputs, weights)\n",
        "    print(\"weighted sum: \" + str(weighted_sum))\n",
        "    print( \"correct answer: \" + str(expected_output))\n",
        "    print (\"perceptron predicted: \" + str(activation_function(weighted_sum)) + '\\n')\n"
      ],
      "metadata": {
        "id": "X4IelLkMa2dL"
      },
      "execution_count": 33,
      "outputs": []
    },
    {
      "cell_type": "code",
      "source": [
        "run_perceptron(X)"
      ],
      "metadata": {
        "colab": {
          "base_uri": "https://localhost:8080/"
        },
        "id": "guT9aZvhcxuh",
        "outputId": "b92dbac3-a993-4a6c-8039-a14c7b61c4bf"
      },
      "execution_count": 34,
      "outputs": [
        {
          "output_type": "stream",
          "name": "stdout",
          "text": [
            "inputs: (0, 1)\n",
            "weighted sum: 0.0005402396686304267\n",
            "correct answer: 0\n",
            "perceptron predicted: 1\n",
            "\n"
          ]
        }
      ]
    }
  ]
}